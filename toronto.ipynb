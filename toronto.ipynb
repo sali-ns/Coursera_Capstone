import numpy as np 
import pandas as pd
get_ipython().system(u' pip install beautifulsoup4')
!pip install lxml
data=pd.read_html('https://en.wikipedia.org/wiki/List_of_postal_codes_of_Canada:_M')
df=data[0]
df=df[df.Borough != 'Not assigned']
df.reset_index(inplace = True)
df.drop(labels  ='index', axis = 1, inplace = True )
print(df.shape)
df.head(11)
